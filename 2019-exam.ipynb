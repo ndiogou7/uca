{
 "cells": [
  {
   "cell_type": "markdown",
   "metadata": {},
   "source": [
    "# Exam pandas"
   ]
  },
  {
   "cell_type": "markdown",
   "metadata": {},
   "source": [
    "## Instructions\n",
    "\n",
    "For this exam we use the dataset we explored in class about the given names of French babies over the period 1900-2018. The documentation about this dataset is online at https://www.insee.fr/fr/statistiques/2540004 and the dataset is downloaded at `../data/prenoms-fr-1900-2018.csv.zip`.\n",
    "\n",
    "For your convenience, this notebook is partially populated with code for loading and cleaning the dataset. A sample of the dataset is also displayed: **you have to focus on answering the questions.**"
   ]
  },
  {
   "cell_type": "markdown",
   "metadata": {},
   "source": [
    "## Download the dataset"
   ]
  },
  {
   "cell_type": "code",
   "execution_count": 1,
   "metadata": {},
   "outputs": [
    {
     "name": "stdout",
     "output_type": "stream",
     "text": [
      "-rw-r--r--  1 fabio  staff    12M Feb 13 11:00 ../data/prenoms-fr-1900-2018.csv.zip\n"
     ]
    }
   ],
   "source": [
    "%%bash\n",
    "\n",
    "force_download=false  # Set to 'true' to force download\n",
    "dataset_location='https://www.insee.fr/fr/statistiques/fichier/2540004/dpt2018_csv.zip'\n",
    "dataset_file_name='../data/prenoms-fr-1900-2018.csv.zip'\n",
    "\n",
    "if [[ ${force_download} == true || ! -e ${dataset_file_name} ]]; then\n",
    "   curl --silent -L --output ${dataset_file_name} ${dataset_location}\n",
    "fi\n",
    "\n",
    "ls -lh ${dataset_file_name}"
   ]
  },
  {
   "cell_type": "markdown",
   "metadata": {},
   "source": [
    "## What you are expected to do\n",
    "\n",
    "Execute the cells of the notebook which are already populated before starting answering the questions, one by one. For answering each question you are provided one (or more) cells already prepared for you **to add your own code**. You will find some variables that you need to initialize."
   ]
  },
  {
   "cell_type": "markdown",
   "metadata": {},
   "source": [
    "## &#9888; **ATTENTION**  &#9888; **ATTENTION**  &#9888; **ATTENTION**  &#9888;\n",
    "\n",
    "When you are done answering your questions, please download the notebook file (extension `.ipynb`) to your personal computer and **send that file by e-mail to the address written in the whiteboard**. It is that notebook that we will use to give an score for your work."
   ]
  },
  {
   "cell_type": "markdown",
   "metadata": {},
   "source": [
    "----------------\n",
    "## Load the dataset"
   ]
  },
  {
   "cell_type": "code",
   "execution_count": 1,
   "metadata": {},
   "outputs": [],
   "source": [
    "import pandas as pd"
   ]
  },
  {
   "cell_type": "code",
   "execution_count": 3,
   "metadata": {},
   "outputs": [
    {
     "name": "stdout",
     "output_type": "stream",
     "text": [
      "This dataset contains 3,624,994 rows and 5 columns\n"
     ]
    }
   ],
   "source": [
    "# Load the data. Its fields are separated by ';'.\n",
    "# We ask pandas to interpret the columns 'annais' and 'dpt' as strings to avoid error with missing\n",
    "# values\n",
    "df = pd.read_csv('../data/dpt2018.csv', sep=';', dtype={'annais':str, 'dpt':str})\n",
    "rows, cols = df.shape\n",
    "print(f'This dataset contains {rows:,} rows and {cols} columns')"
   ]
  },
  {
   "cell_type": "markdown",
   "metadata": {},
   "source": [
    "## Clean the dataset"
   ]
  },
  {
   "cell_type": "code",
   "execution_count": 4,
   "metadata": {},
   "outputs": [],
   "source": [
    "# Rename some columns to use more meaningful names\n",
    "df = df.rename(columns={\n",
    "    'sexe':      'sex',\n",
    "    'preusuel':  'name',\n",
    "    'annais':    'year',\n",
    "    'dpt':       'department',\n",
    "    'nombre':    'count'})\n",
    "\n",
    "# Drop rows with missing department and year and special '_PRENOMS_RARES'\n",
    "df.drop(df[df['department'] == 'XX'].index, inplace=True)\n",
    "df.drop(df[df['year'] == 'XXXX'].index, inplace=True)\n",
    "df.drop(df[df['name'] == '_PRENOMS_RARES'].index, inplace=True)\n",
    "\n",
    "# Convert column 'year' to numeric values\n",
    "df['year'] = pd.to_numeric(df['year'])"
   ]
  },
  {
   "cell_type": "markdown",
   "metadata": {},
   "source": [
    "## Display a sample"
   ]
  },
  {
   "cell_type": "code",
   "execution_count": 5,
   "metadata": {},
   "outputs": [
    {
     "data": {
      "text/html": [
       "<div>\n",
       "<style scoped>\n",
       "    .dataframe tbody tr th:only-of-type {\n",
       "        vertical-align: middle;\n",
       "    }\n",
       "\n",
       "    .dataframe tbody tr th {\n",
       "        vertical-align: top;\n",
       "    }\n",
       "\n",
       "    .dataframe thead th {\n",
       "        text-align: right;\n",
       "    }\n",
       "</style>\n",
       "<table border=\"1\" class=\"dataframe\">\n",
       "  <thead>\n",
       "    <tr style=\"text-align: right;\">\n",
       "      <th></th>\n",
       "      <th>sex</th>\n",
       "      <th>name</th>\n",
       "      <th>year</th>\n",
       "      <th>department</th>\n",
       "      <th>count</th>\n",
       "    </tr>\n",
       "  </thead>\n",
       "  <tbody>\n",
       "    <tr>\n",
       "      <th>3</th>\n",
       "      <td>1</td>\n",
       "      <td>AADIL</td>\n",
       "      <td>1983</td>\n",
       "      <td>84</td>\n",
       "      <td>3</td>\n",
       "    </tr>\n",
       "    <tr>\n",
       "      <th>4</th>\n",
       "      <td>1</td>\n",
       "      <td>AADIL</td>\n",
       "      <td>1992</td>\n",
       "      <td>92</td>\n",
       "      <td>3</td>\n",
       "    </tr>\n",
       "    <tr>\n",
       "      <th>6</th>\n",
       "      <td>1</td>\n",
       "      <td>AAHIL</td>\n",
       "      <td>2016</td>\n",
       "      <td>95</td>\n",
       "      <td>3</td>\n",
       "    </tr>\n",
       "    <tr>\n",
       "      <th>9</th>\n",
       "      <td>1</td>\n",
       "      <td>AARON</td>\n",
       "      <td>1962</td>\n",
       "      <td>75</td>\n",
       "      <td>3</td>\n",
       "    </tr>\n",
       "    <tr>\n",
       "      <th>10</th>\n",
       "      <td>1</td>\n",
       "      <td>AARON</td>\n",
       "      <td>1976</td>\n",
       "      <td>75</td>\n",
       "      <td>3</td>\n",
       "    </tr>\n",
       "    <tr>\n",
       "      <th>11</th>\n",
       "      <td>1</td>\n",
       "      <td>AARON</td>\n",
       "      <td>1982</td>\n",
       "      <td>75</td>\n",
       "      <td>3</td>\n",
       "    </tr>\n",
       "    <tr>\n",
       "      <th>12</th>\n",
       "      <td>1</td>\n",
       "      <td>AARON</td>\n",
       "      <td>1984</td>\n",
       "      <td>75</td>\n",
       "      <td>3</td>\n",
       "    </tr>\n",
       "    <tr>\n",
       "      <th>13</th>\n",
       "      <td>1</td>\n",
       "      <td>AARON</td>\n",
       "      <td>1985</td>\n",
       "      <td>75</td>\n",
       "      <td>5</td>\n",
       "    </tr>\n",
       "  </tbody>\n",
       "</table>\n",
       "</div>"
      ],
      "text/plain": [
       "    sex   name  year department  count\n",
       "3     1  AADIL  1983         84      3\n",
       "4     1  AADIL  1992         92      3\n",
       "6     1  AAHIL  2016         95      3\n",
       "9     1  AARON  1962         75      3\n",
       "10    1  AARON  1976         75      3\n",
       "11    1  AARON  1982         75      3\n",
       "12    1  AARON  1984         75      3\n",
       "13    1  AARON  1985         75      5"
      ]
     },
     "execution_count": 5,
     "metadata": {},
     "output_type": "execute_result"
    }
   ],
   "source": [
    "df.head(8)"
   ]
  },
  {
   "cell_type": "markdown",
   "metadata": {},
   "source": [
    "## Subset the dataframe for convenience"
   ]
  },
  {
   "cell_type": "code",
   "execution_count": 6,
   "metadata": {},
   "outputs": [],
   "source": [
    "# In this dataset, the sex is represented as 1 for males and 2 for females\n",
    "# For convenience, create two views of the dataframe: one for boys and one for girls\n",
    "is_boy  = df['sex'] == 1\n",
    "is_girl = df['sex'] == 2\n",
    "\n",
    "boys, girls = df[is_boy], df[is_girl]"
   ]
  },
  {
   "cell_type": "code",
   "execution_count": 7,
   "metadata": {},
   "outputs": [
    {
     "data": {
      "text/html": [
       "<div>\n",
       "<style scoped>\n",
       "    .dataframe tbody tr th:only-of-type {\n",
       "        vertical-align: middle;\n",
       "    }\n",
       "\n",
       "    .dataframe tbody tr th {\n",
       "        vertical-align: top;\n",
       "    }\n",
       "\n",
       "    .dataframe thead th {\n",
       "        text-align: right;\n",
       "    }\n",
       "</style>\n",
       "<table border=\"1\" class=\"dataframe\">\n",
       "  <thead>\n",
       "    <tr style=\"text-align: right;\">\n",
       "      <th></th>\n",
       "      <th>sex</th>\n",
       "      <th>name</th>\n",
       "      <th>year</th>\n",
       "      <th>department</th>\n",
       "      <th>count</th>\n",
       "    </tr>\n",
       "  </thead>\n",
       "  <tbody>\n",
       "    <tr>\n",
       "      <th>1198097</th>\n",
       "      <td>1</td>\n",
       "      <td>NATHAN</td>\n",
       "      <td>1997</td>\n",
       "      <td>88</td>\n",
       "      <td>23</td>\n",
       "    </tr>\n",
       "    <tr>\n",
       "      <th>1046949</th>\n",
       "      <td>1</td>\n",
       "      <td>MARC</td>\n",
       "      <td>1982</td>\n",
       "      <td>05</td>\n",
       "      <td>4</td>\n",
       "    </tr>\n",
       "    <tr>\n",
       "      <th>201726</th>\n",
       "      <td>1</td>\n",
       "      <td>BENJAMIN</td>\n",
       "      <td>2000</td>\n",
       "      <td>14</td>\n",
       "      <td>59</td>\n",
       "    </tr>\n",
       "    <tr>\n",
       "      <th>211761</th>\n",
       "      <td>1</td>\n",
       "      <td>BERNARD</td>\n",
       "      <td>1934</td>\n",
       "      <td>34</td>\n",
       "      <td>34</td>\n",
       "    </tr>\n",
       "    <tr>\n",
       "      <th>305936</th>\n",
       "      <td>1</td>\n",
       "      <td>CLÉMENT</td>\n",
       "      <td>2016</td>\n",
       "      <td>42</td>\n",
       "      <td>20</td>\n",
       "    </tr>\n",
       "  </tbody>\n",
       "</table>\n",
       "</div>"
      ],
      "text/plain": [
       "         sex      name  year department  count\n",
       "1198097    1    NATHAN  1997         88     23\n",
       "1046949    1      MARC  1982         05      4\n",
       "201726     1  BENJAMIN  2000         14     59\n",
       "211761     1   BERNARD  1934         34     34\n",
       "305936     1   CLÉMENT  2016         42     20"
      ]
     },
     "execution_count": 7,
     "metadata": {},
     "output_type": "execute_result"
    }
   ],
   "source": [
    "boys.sample(5)"
   ]
  },
  {
   "cell_type": "code",
   "execution_count": 12,
   "metadata": {},
   "outputs": [
    {
     "data": {
      "text/html": [
       "<div>\n",
       "<style scoped>\n",
       "    .dataframe tbody tr th:only-of-type {\n",
       "        vertical-align: middle;\n",
       "    }\n",
       "\n",
       "    .dataframe tbody tr th {\n",
       "        vertical-align: top;\n",
       "    }\n",
       "\n",
       "    .dataframe thead th {\n",
       "        text-align: right;\n",
       "    }\n",
       "</style>\n",
       "<table border=\"1\" class=\"dataframe\">\n",
       "  <thead>\n",
       "    <tr style=\"text-align: right;\">\n",
       "      <th></th>\n",
       "      <th>sex</th>\n",
       "      <th>name</th>\n",
       "      <th>year</th>\n",
       "      <th>department</th>\n",
       "      <th>count</th>\n",
       "    </tr>\n",
       "  </thead>\n",
       "  <tbody>\n",
       "    <tr>\n",
       "      <td>2715938</td>\n",
       "      <td>2</td>\n",
       "      <td>LAYLA</td>\n",
       "      <td>1982</td>\n",
       "      <td>92</td>\n",
       "      <td>3</td>\n",
       "    </tr>\n",
       "    <tr>\n",
       "      <td>1778288</td>\n",
       "      <td>2</td>\n",
       "      <td>AMÉLIE</td>\n",
       "      <td>1977</td>\n",
       "      <td>53</td>\n",
       "      <td>5</td>\n",
       "    </tr>\n",
       "    <tr>\n",
       "      <td>2273678</td>\n",
       "      <td>2</td>\n",
       "      <td>ELÉANA</td>\n",
       "      <td>2018</td>\n",
       "      <td>38</td>\n",
       "      <td>3</td>\n",
       "    </tr>\n",
       "    <tr>\n",
       "      <td>2352663</td>\n",
       "      <td>2</td>\n",
       "      <td>FATIMA-ZOHRA</td>\n",
       "      <td>2001</td>\n",
       "      <td>30</td>\n",
       "      <td>5</td>\n",
       "    </tr>\n",
       "    <tr>\n",
       "      <td>3060037</td>\n",
       "      <td>2</td>\n",
       "      <td>MARYSE</td>\n",
       "      <td>1955</td>\n",
       "      <td>48</td>\n",
       "      <td>8</td>\n",
       "    </tr>\n",
       "  </tbody>\n",
       "</table>\n",
       "</div>"
      ],
      "text/plain": [
       "         sex          name  year department  count\n",
       "2715938    2         LAYLA  1982         92      3\n",
       "1778288    2        AMÉLIE  1977         53      5\n",
       "2273678    2        ELÉANA  2018         38      3\n",
       "2352663    2  FATIMA-ZOHRA  2001         30      5\n",
       "3060037    2        MARYSE  1955         48      8"
      ]
     },
     "execution_count": 12,
     "metadata": {},
     "output_type": "execute_result"
    }
   ],
   "source": [
    "girls.sample(5)"
   ]
  },
  {
   "cell_type": "markdown",
   "metadata": {},
   "source": [
    "## Questions 1 & 2:\n",
    "\n",
    "**1)** Determine the year when the largest number of girls named `'MARIE'` were born. How many girls were named `'MARIE'` that particular year?"
   ]
  },
  {
   "cell_type": "code",
   "execution_count": null,
   "metadata": {},
   "outputs": [],
   "source": [
    "# Your code goes here\n",
    "\n",
    "year = ... # Initialize this variable with the year when most girls were named 'MARIE'\n",
    "count_maries =  ... # Initialize this variable with the number of girls named 'MARIE' that particular year\n",
    "\n",
    "print(f'The year with largest number of girls named MARIE was {year}: there were {count_maries:,} of them')"
   ]
  },
  {
   "cell_type": "markdown",
   "metadata": {},
   "source": [
    "**2)** What **percentage** of all the girls born that year were named `'MARIE'`?"
   ]
  },
  {
   "cell_type": "code",
   "execution_count": null,
   "metadata": {},
   "outputs": [],
   "source": [
    "# Your code goes here\n",
    "\n",
    "total_girls = ... # Initialize this variable with the total number of girls born that year\n",
    "\n",
    "percent_maries = (count_maries * 100) / total_girls\n",
    "\n",
    "print(f'{percent_maries:.0f}% of the girls born in {year} were named MARIE')"
   ]
  },
  {
   "cell_type": "markdown",
   "metadata": {},
   "source": [
    "## Questions 3 & 4:\n",
    "\n",
    "**3)** Determine the most popular name for boys and for girls for the whole period included in the dataset."
   ]
  },
  {
   "cell_type": "code",
   "execution_count": 8,
   "metadata": {},
   "outputs": [
    {
     "name": "stdout",
     "output_type": "stream",
     "text": [
      "The most popular names over the period 1900-2017 were Ellipsis and Ellipsis\n"
     ]
    }
   ],
   "source": [
    "# Your code goes here\n",
    "\n",
    "top_boys  = boys.groupby(['name'])['count'].sum().idmax() # Initialize this variable with the most popular name for boys\n",
    "top_girls = ... # Initialize this variable with the most popular name for girls\n",
    "\n",
    "print(f'The most popular names over the period 1900-2017 are {top_girls} and {top_boys}')"
   ]
  },
  {
   "cell_type": "markdown",
   "metadata": {},
   "source": [
    "**4)** Determine the top most popular name for the girls who in 2019 are aged 20 years or less"
   ]
  },
  {
   "cell_type": "code",
   "execution_count": null,
   "metadata": {},
   "outputs": [],
   "source": [
    "# Your code goes here\n",
    "\n",
    "top_girl_up_to_20years = girls[girls['year']>=1999] # Initialize this variable with the most popular name for girls aged up to 20 years\n",
    "\n",
    "print(f'The most popular name for girls aged 20 years or less in 2019 is {top_girl_up_to_20years}')"
   ]
  },
  {
   "cell_type": "markdown",
   "metadata": {},
   "source": [
    "## Question 5:\n",
    "\n",
    "Answer `True` or `False` to the question below:\n",
    "\n",
    "*\"Among the girls born in 1970, were there more named `'ISABELLE'` than `'BRIGITTE'` ?\"*"
   ]
  },
  {
   "cell_type": "code",
   "execution_count": null,
   "metadata": {},
   "outputs": [],
   "source": [
    "# Your code goes here\n",
    "\n",
    "isabelles_1970 = ... # Initialize this variable with the number of 'ISABELLE' born in 1970\n",
    "brigittes_1970 = ... # Initialize this variable with the number of 'BRIGITTE' born in 1970\n",
    "\n",
    "print(isabelles_1970 > brigittes_1970)"
   ]
  }
 ],
 "metadata": {
  "kernelspec": {
   "display_name": "Python 3",
   "language": "python",
   "name": "python3"
  },
  "language_info": {
   "codemirror_mode": {
    "name": "ipython",
    "version": 3
   },
   "file_extension": ".py",
   "mimetype": "text/x-python",
   "name": "python",
   "nbconvert_exporter": "python",
   "pygments_lexer": "ipython3",
   "version": "3.7.3"
  }
 },
 "nbformat": 4,
 "nbformat_minor": 4
}
